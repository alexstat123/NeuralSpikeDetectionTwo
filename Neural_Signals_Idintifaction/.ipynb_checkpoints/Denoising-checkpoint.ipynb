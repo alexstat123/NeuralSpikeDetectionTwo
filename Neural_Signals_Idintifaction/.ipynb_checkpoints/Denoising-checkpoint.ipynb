{
 "cells": [
  {
   "cell_type": "code",
   "execution_count": 1,
   "metadata": {},
   "outputs": [
    {
     "name": "stderr",
     "output_type": "stream",
     "text": [
      "/Applications/anaconda3/lib/python3.6/site-packages/h5py/__init__.py:34: FutureWarning: Conversion of the second argument of issubdtype from `float` to `np.floating` is deprecated. In future, it will be treated as `np.float64 == np.dtype(float).type`.\n",
      "  from ._conv import register_converters as _register_converters\n"
     ]
    }
   ],
   "source": [
    "# import libraries\n",
    "import matplotlib.pyplot as plt\n",
    "import numpy as np\n",
    "import h5py\n",
    "from scipy.signal import medfilt\n",
    "from scipy import arange\n",
    "import sys\n",
    "import scipy.io as sio\n",
    "from sklearn.preprocessing import StandardScaler\n",
    "import scipy as sc\n",
    "from scipy.ndimage import gaussian_filter\n",
    "from numpy import vstack\n",
    "from numpy import hstack\n",
    "from sklearn import datasets\n",
    "from sklearn.decomposition import PCA\n",
    "from sklearn.cluster import KMeans\n",
    "from scipy.spatial.distance import cdist\n",
    "import pywt\n",
    "from sklearn import preprocessing\n",
    "from scipy.fftpack import fft, ifft\n",
    "# %matplotlib inline\n",
    "from scipy import fftpack\n",
    "from itertools import product\n",
    "from scipy.stats import norm\n",
    "from sklearn.covariance import EmpiricalCovariance, MinCovDet\n",
    "import scipy as sc\n",
    "from scipy import stats\n",
    "from scipy.stats import chi2\n",
    "from collections import Counter\n",
    "import multiprocessing\n",
    "plt.style.use('dark_background')"
   ]
  },
  {
   "cell_type": "code",
   "execution_count": 2,
   "metadata": {},
   "outputs": [],
   "source": [
    "dir1 = '/volumes/MYUSB/Thesis/Culture_Cortex_Rat_24DIV_2sec_spontaneous.brw'\n",
    "dir2 = '/volumes/MYUSB/Thesis/Culture_Cortex_Rat_24DIV_2sec_spontaneousDenoised.brw'"
   ]
  },
  {
   "cell_type": "code",
   "execution_count": 3,
   "metadata": {},
   "outputs": [],
   "source": [
    "def loadData(directory):\n",
    "#     'HippoRat.brw'\n",
    "     with h5py.File(directory, 'r') as hdf:\n",
    "\n",
    "        chsList = np.array(hdf.get('3BRecInfo/3BMeaStreams/Raw/Chs')[:])\n",
    "        numChs = len(chsList)\n",
    "        frames = np.array(hdf.get('3BRecInfo/3BRecVars/NRecFrames')[0])\n",
    "\n",
    "#         channelIdx = index\n",
    "#         ids = np.arange(channelIdx, frames * numChs, numChs)\n",
    "        data = np.array(hdf.get('3BData/Raw'))\n",
    "\n",
    "        # extract info relating to signal conversion \n",
    "        signalInversion = np.array(hdf.get('/3BRecInfo/3BRecVars/SignalInversion')[0])\n",
    "        maxUVolt = (np.array(hdf.get('/3BRecInfo/3BRecVars/MaxVolt')[0]))\n",
    "        minUVolt = (np.array(hdf.get('/3BRecInfo/3BRecVars/MinVolt')[0]))\n",
    "        bitDepth = (np.array(hdf.get('/3BRecInfo/3BRecVars/BitDepth')[0]))\n",
    "        sampmlingFrequency = (np.array(hdf.get('3BRecInfo/3BRecVars/SamplingRate')[0]))\n",
    "\n",
    "        qLevel = 2**bitDepth \n",
    "        fromQLevelToUVolt = (maxUVolt - minUVolt) / qLevel\n",
    "        singleElectrodeUV = data * signalInversion;\n",
    "        singleElectrodeUV = singleElectrodeUV - (qLevel / 2);\n",
    "        singleElectrodeUV = singleElectrodeUV * fromQLevelToUVolt\n",
    "        return singleElectrodeUV, numChs, frames,sampmlingFrequency"
   ]
  },
  {
   "cell_type": "code",
   "execution_count": 4,
   "metadata": {},
   "outputs": [
    {
     "name": "stdout",
     "output_type": "stream",
     "text": [
      "frames:  21022\n",
      "len data:  86106112\n"
     ]
    }
   ],
   "source": [
    "rawData, numChs, frames, sampmlingFrequency =  loadData(dir1)\n",
    "print(\"frames: \",frames)\n",
    "print(\"len data: \",len(rawData))"
   ]
  },
  {
   "cell_type": "code",
   "execution_count": 5,
   "metadata": {},
   "outputs": [],
   "source": [
    "def patches(data):\n",
    "    num= len(data)\n",
    "    factors=[]\n",
    "    for i in range(1,num+1):\n",
    "        if num%i==0:\n",
    "           factors.append(i)\n",
    "\n",
    "    ocurrance = np.where(np.array(factors) > 1000000)\n",
    "    patchLen = np.array(factors)[ocurrance[0][1]]\n",
    "    numPatches = len(rawData) / patchLen \n",
    "    return patchLen, numPatches"
   ]
  },
  {
   "cell_type": "code",
   "execution_count": 6,
   "metadata": {},
   "outputs": [
    {
     "name": "stdout",
     "output_type": "stream",
     "text": [
      "1871872 46.0\n"
     ]
    }
   ],
   "source": [
    "patchLen, numPatches = patches(rawData)\n",
    "print(patchLen, numPatches)"
   ]
  },
  {
   "cell_type": "code",
   "execution_count": 7,
   "metadata": {},
   "outputs": [],
   "source": [
    "Arr2d = []"
   ]
  },
  {
   "cell_type": "code",
   "execution_count": 9,
   "metadata": {},
   "outputs": [
    {
     "data": {
      "text/plain": [
       "46.0"
      ]
     },
     "execution_count": 9,
     "metadata": {},
     "output_type": "execute_result"
    }
   ],
   "source": [
    "numPatches"
   ]
  },
  {
   "cell_type": "code",
   "execution_count": null,
   "metadata": {},
   "outputs": [],
   "source": [
    "for i in np.arange(0, numPatches):\n",
    "    start = int(i * patchLen)\n",
    "    end = int((i + 1) * patchLen)\n",
    "    getData = rawData[start:end]\n",
    "    y = getData\n",
    "    coef, freqs=pywt.cwt(y,np.arange(1,50,0.5),'morl')\n",
    "    d = coef\n",
    "    d = d.transpose()\n",
    "    # PCA\n",
    "    pca = PCA(n_components = 2)\n",
    "    pca.fit(d)\n",
    "    Z = pca.transform(d)\n",
    "    eigenvalues = pca.explained_variance_\n",
    "    Z[:,0] /= eigenvalues[0]**(1/2)\n",
    "    Z[:,1] /= eigenvalues[1]**(1/2)\n",
    "    kmeans = KMeans(n_clusters=1).fit(Z)\n",
    "    centroids = kmeans.cluster_centers_\n",
    "    satandardDiv = np.std(Z)\n",
    "    Distance = cdist(Z, centroids)\n",
    "    theshold = satandardDiv * 3\n",
    "    mask = map(lambda x : 1 if (x > theshold) else 0, Distance)\n",
    "    mask = list(mask)\n",
    "    \n",
    "    r  = (sum(mask) / len(mask)) * 100\n",
    "    \n",
    "    Arr2d.append(mask)\n",
    "    print(\"window: \", start, end)\n",
    "    print(\"probability spike channel = \", r)"
   ]
  },
  {
   "cell_type": "code",
   "execution_count": null,
   "metadata": {},
   "outputs": [],
   "source": [
    "ArrFlattened = np.array(Arr2d).flatten()"
   ]
  },
  {
   "cell_type": "code",
   "execution_count": null,
   "metadata": {},
   "outputs": [],
   "source": [
    "multiplication  = np.multiply(rawData, ArrFlattened)"
   ]
  },
  {
   "cell_type": "code",
   "execution_count": null,
   "metadata": {},
   "outputs": [],
   "source": [
    "# wrtite data back to file\n",
    "\n",
    "\n",
    "xstr = (34,23)\n",
    "# good signal (53,20)\n",
    "# signals embedded into the noise [34,23] \n",
    "# no signals only basal noise [35,12]\n",
    "# positive and negative spikes [16,4]\n",
    "# noisy electrode - [22,7]\n",
    "    \n",
    "\n",
    "# Load data\n",
    "with h5py.File(dir1, 'r') as hdf:\n",
    "    \n",
    "    \n",
    "    chsList = np.array(hdf.get('3BRecInfo/3BMeaStreams/Raw/Chs')[:])\n",
    "    numChs = len(chsList)\n",
    "    frames = np.array(hdf.get('3BRecInfo/3BRecVars/NRecFrames')[0])\n",
    "    selectedChannel = (chsList['Row'] == int(xstr[0])) * (chsList['Col'] == int(xstr[1]))\n",
    "    channelIdx = np.where(selectedChannel == True)[0][0]\n",
    "    ids = np.arange(channelIdx, frames * numChs, numChs)\n",
    "    \n",
    "    print('chsList: ', chsList)\n",
    "    print('numChs: ', numChs)\n",
    "    print('frames: ', frames)\n",
    "    print('selectedChannel: ', selectedChannel)\n",
    "    print('channelIdx: ', channelIdx)\n",
    "    print('ids: ', ids)\n",
    "    print('ids[0:10]: ', ids[0:10])\n",
    "    print('ids.shape: ', ids.shape)\n",
    "    print('channelIdx * frames: ', channelIdx * frames)\n",
    "    print('channelIdx * frames + frames: ', channelIdx * frames + frames)\n",
    "#     data = np.array(hdf.get('3BData/Raw')[channelIdx * frames  : (channelIdx * frames) + frames])\n",
    "    data = np.array(hdf.get('3BData/Raw'))\n",
    "    print('start: ', channelIdx * frames)\n",
    "    print('end: ', (channelIdx * frames) + frames)\n",
    "    # extract info relating to signal conversion \n",
    "    signalInversion = np.array(hdf.get('/3BRecInfo/3BRecVars/SignalInversion')[0])\n",
    "    maxUVolt = (np.array(hdf.get('/3BRecInfo/3BRecVars/MaxVolt')[0]))\n",
    "    minUVolt = (np.array(hdf.get('/3BRecInfo/3BRecVars/MinVolt')[0]))\n",
    "    bitDepth = (np.array(hdf.get('/3BRecInfo/3BRecVars/BitDepth')[0]))\n",
    "    sampmlingFrequency = (np.array(hdf.get('3BRecInfo/3BRecVars/SamplingRate')[0]))\n",
    "    \n",
    "qLevel = 2**bitDepth \n",
    "fromQLevelToUVolt = (maxUVolt - minUVolt) / qLevel\n",
    "singleElectrodeUV = data * signalInversion;\n",
    "singleElectrodeUV = singleElectrodeUV - (qLevel / 2);\n",
    "singleElectrodeUV = singleElectrodeUV * fromQLevelToUVolt"
   ]
  },
  {
   "cell_type": "code",
   "execution_count": null,
   "metadata": {},
   "outputs": [],
   "source": [
    "# reverse back to raw\n",
    "multiplication = multiplication / fromQLevelToUVolt\n",
    "multiplication = multiplication + (qLevel / 2);\n",
    "multiplication = multiplication / signalInversion;\n",
    "\n",
    "final_array = np.array(multiplication, dtype='int16')\n",
    "print(final_array[0:10])\n",
    "type(final_array)"
   ]
  },
  {
   "cell_type": "code",
   "execution_count": null,
   "metadata": {},
   "outputs": [],
   "source": [
    "with h5py.File(dir2, mode = 'a') as f:\n",
    "    print(list(f.items()))\n",
    "    g1 = f.get('3BData')\n",
    " \n",
    "    #delete old version of 'Raw'\n",
    "    delete = 'Raw'\n",
    "    if delete in g1.keys():\n",
    "        del g1['Raw']\n",
    "        \n",
    "    #create new version of 'Raw' \n",
    "    dataset = \"Raw\"\n",
    "    if dataset not in g1.keys():\n",
    "        print(\"dataset is not here yet!\")\n",
    "        g1.create_dataset('Raw', data = final_array, dtype='uint16') #dtype='int16'\n",
    "\n",
    "\n",
    "    #display keys to make sure 'Raw' file exists \n",
    "    g1_items = list(g1.items())\n",
    "    print('items in group 1: ', g1_items)\n",
    "    print(g1.keys())"
   ]
  },
  {
   "cell_type": "code",
   "execution_count": null,
   "metadata": {},
   "outputs": [],
   "source": [
    "xstr = (53,20)\n",
    "# good signal (53,20)\n",
    "# signals embedded into the noise [34,23] \n",
    "# no signals only basal noise [35,12]\n",
    "# positive and negative spikes [16,4]\n",
    "# noisy electrode - [22,7]\n",
    "    \n",
    "\n",
    "# Load data\n",
    "with h5py.File(dir2, 'r') as hdf:\n",
    "    \n",
    "#     chsList = tempRaw['3BRecInfo/3BMeaStreams/Raw/Chs'][:]\n",
    "#     frames = tempRaw['3BRecInfo/3BRecVars/NRecFrames'][0]\n",
    "    chsList = np.array(hdf.get('3BRecInfo/3BMeaStreams/Raw/Chs')[:])\n",
    "    numChs = len(chsList)\n",
    "    frames = np.array(hdf.get('3BRecInfo/3BRecVars/NRecFrames')[0])\n",
    "    selectedChannel = (chsList['Row'] == int(xstr[0])) * (chsList['Col'] == int(xstr[1]))\n",
    "    channelIdx = np.where(selectedChannel == True)[0][0]\n",
    "    ids = np.arange(channelIdx, frames * numChs, numChs)\n",
    "    \n",
    "    print('chsList: ', chsList)\n",
    "    print('numChs: ', numChs)\n",
    "    print('frames: ', frames)\n",
    "    print('selectedChannel: ', selectedChannel)\n",
    "    print('channelIdx: ', channelIdx)\n",
    "    print('ids: ', ids)\n",
    "    print('ids[0:10]: ', ids[0:10])\n",
    "    print('ids.shape: ', ids.shape)\n",
    "    \n",
    "\n",
    "    print('channelIdx * frames: ', channelIdx * frames)\n",
    "    print('channelIdx * frames + frames: ', channelIdx * frames + frames)\n",
    "    data = np.array(hdf.get('3BData/Raw'))[ids]\n",
    "    print('start: ', channelIdx * frames)\n",
    "    print('end: ', (channelIdx * frames) + frames)\n",
    "    # extract info relating to signal conversion \n",
    "    signalInversion = np.array(hdf.get('/3BRecInfo/3BRecVars/SignalInversion')[0])\n",
    "    maxUVolt = (np.array(hdf.get('/3BRecInfo/3BRecVars/MaxVolt')[0]))\n",
    "    minUVolt = (np.array(hdf.get('/3BRecInfo/3BRecVars/MinVolt')[0]))\n",
    "    bitDepth = (np.array(hdf.get('/3BRecInfo/3BRecVars/BitDepth')[0]))\n",
    "    sampmlingFrequency = (np.array(hdf.get('3BRecInfo/3BRecVars/SamplingRate')[0]))\n",
    "    \n",
    "qLevel = 2**bitDepth \n",
    "fromQLevelToUVolt = (maxUVolt - minUVolt) / qLevel\n",
    "singleElectrodeUV = data * signalInversion;\n",
    "singleElectrodeUV = singleElectrodeUV - (qLevel / 2);\n",
    "singleElectrodeUV = singleElectrodeUV * fromQLevelToUVolt"
   ]
  },
  {
   "cell_type": "code",
   "execution_count": null,
   "metadata": {},
   "outputs": [],
   "source": [
    "# plot the channel\n",
    "plt.figure(figsize=(25,7.5))\n",
    "plt.plot(range(len(singleElectrodeUV))/sampmlingFrequency, singleElectrodeUV) \n",
    "plt.title('singleElectrodeUV')\n",
    "plt.show()"
   ]
  },
  {
   "cell_type": "code",
   "execution_count": null,
   "metadata": {},
   "outputs": [],
   "source": [
    "rawData, numChs, frames, sampmlingFrequency =  loadData(dir2)\n",
    "r = (len(rawData) - rawData.tolist().count(0))/len(rawData) * 100\n",
    "print(\"probability of spike = \", r)"
   ]
  },
  {
   "cell_type": "code",
   "execution_count": null,
   "metadata": {},
   "outputs": [],
   "source": []
  }
 ],
 "metadata": {
  "kernelspec": {
   "display_name": "Python 3",
   "language": "python",
   "name": "python3"
  },
  "language_info": {
   "codemirror_mode": {
    "name": "ipython",
    "version": 3
   },
   "file_extension": ".py",
   "mimetype": "text/x-python",
   "name": "python",
   "nbconvert_exporter": "python",
   "pygments_lexer": "ipython3",
   "version": "3.6.3"
  }
 },
 "nbformat": 4,
 "nbformat_minor": 4
}
