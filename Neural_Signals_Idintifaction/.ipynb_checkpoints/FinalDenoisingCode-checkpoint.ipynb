{
 "cells": [
  {
   "cell_type": "code",
   "execution_count": 1,
   "metadata": {},
   "outputs": [
    {
     "name": "stderr",
     "output_type": "stream",
     "text": [
      "/Applications/anaconda3/lib/python3.6/site-packages/h5py/__init__.py:34: FutureWarning: Conversion of the second argument of issubdtype from `float` to `np.floating` is deprecated. In future, it will be treated as `np.float64 == np.dtype(float).type`.\n",
      "  from ._conv import register_converters as _register_converters\n"
     ]
    }
   ],
   "source": [
    "# All the nessesary libraries for this work \n",
    "import numpy as np\n",
    "from scipy import ndimage as img\n",
    "from scipy import io as sio\n",
    "import matplotlib.pyplot as plt\n",
    "import pyshearlab\n",
    "import scipy.misc\n",
    "import cv2\n",
    "import imageio\n",
    "import matplotlib.pyplot as plt\n",
    "import numpy as np\n",
    "import h5py\n",
    "from scipy.signal import medfilt\n",
    "from scipy import arange\n",
    "import sys\n",
    "import scipy.io as sio\n",
    "from sklearn.preprocessing import StandardScaler\n",
    "import scipy as sc\n",
    "from scipy.ndimage import gaussian_filter\n",
    "from numpy import vstack\n",
    "from numpy import hstack\n",
    "from sklearn import datasets\n",
    "from sklearn.decomposition import PCA\n",
    "from sklearn.cluster import KMeans\n",
    "from scipy.spatial.distance import cdist\n",
    "import pywt\n",
    "from sklearn import preprocessing\n",
    "from scipy.fftpack import fft, ifft\n",
    "from scipy import fftpack\n",
    "from scipy.stats import norm\n",
    "import scipy as sc\n",
    "import statistics\n",
    "from scipy import signal\n",
    "from scipy import stats\n",
    "from PIL import Image\n",
    "from scipy.ndimage import gaussian_filter\n",
    "import cv2\n",
    "from scipy import ndimage as img\n",
    "from scipy import io as sio\n",
    "import matplotlib.pyplot as plt\n",
    "import pyshearlab\n",
    "import scipy.misc\n",
    "import cv2\n",
    "import imageio\n",
    "from collections import Counter\n",
    "from sklearn.cluster import MeanShift, estimate_bandwidth\n",
    "plt.style.use('dark_background')"
   ]
  },
  {
   "cell_type": "code",
   "execution_count": 2,
   "metadata": {},
   "outputs": [
    {
     "name": "stdout",
     "output_type": "stream",
     "text": [
      "files prepared\n"
     ]
    }
   ],
   "source": [
    "from shutil import copyfile\n",
    "fileName = low_density_2sec.brw\n",
    "copyfile(fileName, \"Denoised.brw\")\n",
    "copyfile(\"Denoised.brw\", \"DenoisedAndSheared.brw\")\n",
    "print(\"files prepared\")"
   ]
  },
  {
   "cell_type": "code",
   "execution_count": 3,
   "metadata": {},
   "outputs": [],
   "source": [
    "dir1 = 'low_density_2sec.brw'\n",
    "dir2 = 'Denoised.brw'\n",
    "dir3 = 'DenoisedAndSheared.brw'"
   ]
  },
  {
   "cell_type": "code",
   "execution_count": 4,
   "metadata": {},
   "outputs": [],
   "source": [
    "# function that loads specific channel from MEA device\n",
    "def loadData(index):\n",
    "\n",
    "     with h5py.File(dir1, 'r') as hdf:\n",
    "\n",
    "        chsList = np.array(hdf.get('3BRecInfo/3BMeaStreams/Raw/Chs')[:])\n",
    "        numChs = len(chsList)\n",
    "        frames = np.array(hdf.get('3BRecInfo/3BRecVars/NRecFrames')[0])\n",
    "        channelIdx = index\n",
    "        ids = np.arange(channelIdx, frames * numChs, numChs)\n",
    "        data = np.array(hdf.get('3BData/Raw'))[ids]\n",
    "        # extract info relating to signal conversion \n",
    "        signalInversion = np.array(hdf.get('/3BRecInfo/3BRecVars/SignalInversion')[0])\n",
    "        maxUVolt = (np.array(hdf.get('/3BRecInfo/3BRecVars/MaxVolt')[0]))\n",
    "        minUVolt = (np.array(hdf.get('/3BRecInfo/3BRecVars/MinVolt')[0]))\n",
    "        bitDepth = (np.array(hdf.get('/3BRecInfo/3BRecVars/BitDepth')[0]))\n",
    "        sampmlingFrequency = (np.array(hdf.get('3BRecInfo/3BRecVars/SamplingRate')[0]))\n",
    "        # convert MEA signal to have zero mean and correct scale        \n",
    "        qLevel = 2**bitDepth \n",
    "        fromQLevelToUVolt = (maxUVolt - minUVolt) / qLevel\n",
    "        singleElectrodeUV = data * signalInversion;\n",
    "        singleElectrodeUV = singleElectrodeUV - (qLevel / 2);\n",
    "        singleElectrodeUV = singleElectrodeUV * fromQLevelToUVolt\n",
    "        return singleElectrodeUV, sampmlingFrequency, numChs, ids, frames"
   ]
  },
  {
   "cell_type": "code",
   "execution_count": 5,
   "metadata": {},
   "outputs": [],
   "source": [
    "# function that loads all of the data from MEA device\n",
    "def loadDirectory(directory):\n",
    "\n",
    "     with h5py.File(directory, 'r') as hdf:\n",
    "\n",
    "        chsList = np.array(hdf.get('3BRecInfo/3BMeaStreams/Raw/Chs')[:])\n",
    "        numChs = len(chsList)\n",
    "        frames = np.array(hdf.get('3BRecInfo/3BRecVars/NRecFrames')[0])\n",
    "        data = np.array(hdf.get('3BData/Raw'))\n",
    "\n",
    "        # extract info relating to signal conversion \n",
    "        signalInversion = np.array(hdf.get('/3BRecInfo/3BRecVars/SignalInversion')[0])\n",
    "        maxUVolt = (np.array(hdf.get('/3BRecInfo/3BRecVars/MaxVolt')[0]))\n",
    "        minUVolt = (np.array(hdf.get('/3BRecInfo/3BRecVars/MinVolt')[0]))\n",
    "        bitDepth = (np.array(hdf.get('/3BRecInfo/3BRecVars/BitDepth')[0]))\n",
    "        sampmlingFrequency = (np.array(hdf.get('3BRecInfo/3BRecVars/SamplingRate')[0]))\n",
    "\n",
    "        qLevel = 2**bitDepth \n",
    "        fromQLevelToUVolt = (maxUVolt - minUVolt) / qLevel\n",
    "        singleElectrodeUV = data * signalInversion;\n",
    "        singleElectrodeUV = singleElectrodeUV - (qLevel / 2);\n",
    "        singleElectrodeUV = singleElectrodeUV * fromQLevelToUVolt\n",
    "        return singleElectrodeUV, numChs, frames,sampmlingFrequency"
   ]
  },
  {
   "cell_type": "code",
   "execution_count": 6,
   "metadata": {},
   "outputs": [],
   "source": [
    "# function that loads specific settings of MEA device\n",
    "def MEAsettings(directory):\n",
    "\n",
    "     with h5py.File(directory, 'r') as hdf:\n",
    "        signalInversion = np.array(hdf.get('/3BRecInfo/3BRecVars/SignalInversion')[0])\n",
    "        maxUVolt = (np.array(hdf.get('/3BRecInfo/3BRecVars/MaxVolt')[0]))\n",
    "        minUVolt = (np.array(hdf.get('/3BRecInfo/3BRecVars/MinVolt')[0]))\n",
    "        bitDepth = (np.array(hdf.get('/3BRecInfo/3BRecVars/BitDepth')[0]))\n",
    "        qLevel = 2**bitDepth \n",
    "        fromQLevelToUVolt = (maxUVolt - minUVolt) / qLevel\n",
    "        return  fromQLevelToUVolt,  qLevel, signalInversion"
   ]
  },
  {
   "cell_type": "code",
   "execution_count": 7,
   "metadata": {},
   "outputs": [],
   "source": [
    "# Denoising algorithm consisting of Continious Wavelt Transform and PCA\n",
    "# Takes in channel data\n",
    "def BinaryClssification(singleElectrodeUV):\n",
    "    # CWT\n",
    "    y = singleElectrodeUV\n",
    "    coef, freqs=pywt.cwt(y,np.arange(1,50,0.5),'morl')\n",
    "    d = coef\n",
    "    # transpose continious wavelet transform matrix to be fed into PCA\n",
    "    d = d.transpose()\n",
    "    # PCA\n",
    "    pca = PCA(n_components = 2)\n",
    "    pca.fit(d)\n",
    "    Z = pca.transform(d)\n",
    "    # reshape the cluster to be sperical rather than eliptical, easyer to do standard deviation calculations.     \n",
    "    eigenvalues = pca.explained_variance_\n",
    "    Z[:,0] /= eigenvalues[0]**(1/2)\n",
    "    Z[:,1] /= eigenvalues[1]**(1/2)\n",
    "    # K - Mean with number of cluster set to 1 to determine center of the cluster\n",
    "    kmeans = KMeans(n_clusters=1).fit(Z)\n",
    "    # Find the coordinates of the center of the cluster and distances of all points to that center    \n",
    "    centroids = kmeans.cluster_centers_\n",
    "    Distance = cdist(Z, centroids)\n",
    "    # calculate standard deviation on all distances\n",
    "    satandardDiv = np.std(Z)\n",
    "    #  create a mask where all the points that are outside of X * sigma are kept and other are disgarded   \n",
    "    threshold = 3 * satandardDiv\n",
    "    mask = map(lambda x : 1 if (x > threshold) else 0, Distance)\n",
    "    mask = list(mask)\n",
    "    #  Multiply the mask by the original signal and return the result   \n",
    "    re = singleElectrodeUV * mask\n",
    "    return re"
   ]
  },
  {
   "cell_type": "code",
   "execution_count": 8,
   "metadata": {},
   "outputs": [],
   "source": [
    "# shearlet transform function, takes in 2d array (a frame)\n",
    "def shearlets(matrix):\n",
    "    #  hyperparameter settings (including level at which to threshold)   \n",
    "    sigma = 30\n",
    "    scales = 2\n",
    "    thresholdingFactor = 1.2\n",
    "    # Converting 2D matrix into flaot    \n",
    "    matrix = matrix.astype(float)\n",
    "    X = matrix \n",
    "    ## create shearlets system\n",
    "    shearletSystem = pyshearlab.SLgetShearletSystem2D(0,X.shape[0], X.shape[1], scales)\n",
    "    # decomposition, produces shearlet coefficients\n",
    "    coeffs = pyshearlab.SLsheardec2D(X, shearletSystem)\n",
    "    # calculating Root Mean Square value of each coeficient vector that is assosiated with a pixel\n",
    "    # i.e for sherlet system made out of scales = 2, produces coeficient vector of length 17 for each pixel\n",
    "    # RMS value is worked out on each of these vectors and the multiplied by the vector    \n",
    "    oldCoeffs = coeffs.copy()\n",
    "    weights = np.ones(coeffs.shape)\n",
    "    for j in range(len(shearletSystem[\"RMS\"])):\n",
    "        weights[:,:,j] = shearletSystem[\"RMS\"][j]*np.ones((X.shape[0], X.shape[1]))\n",
    "    #  Thresholding the coefficients based on the setting in the hyperparameters and RMS weights \n",
    "    #  Setting coefficients to 0 for value that do not pass the threshold\n",
    "    coeffs = np.real(coeffs)\n",
    "    zero_indices = np.abs(coeffs) / (thresholdingFactor * weights * sigma) < 1\n",
    "    coeffs[zero_indices] = 0\n",
    "    # reconstruction of the signal thresholded coefficients, returning the reconsturcted signal\n",
    "    Xrec = pyshearlab.SLshearrec2D(coeffs, shearletSystem)\n",
    "    return Xrec\n",
    "\n",
    "\n"
   ]
  },
  {
   "cell_type": "code",
   "execution_count": 9,
   "metadata": {},
   "outputs": [],
   "source": [
    "singleElectrodeUV, sampmlingFrequency, numChs, ids, frames = loadData(0) \n",
    "numberOfSmples = frames * numChs\n",
    "VectorOfOne = np.zeros(numberOfSmples)"
   ]
  },
  {
   "cell_type": "code",
   "execution_count": 10,
   "metadata": {},
   "outputs": [
    {
     "name": "stdout",
     "output_type": "stream",
     "text": [
      "5 % of channels analysed\r"
     ]
    },
    {
     "ename": "KeyboardInterrupt",
     "evalue": "",
     "output_type": "error",
     "traceback": [
      "\u001b[0;31m---------------------------------------------------------------------------\u001b[0m",
      "\u001b[0;31mKeyboardInterrupt\u001b[0m                         Traceback (most recent call last)",
      "\u001b[0;32m<timed exec>\u001b[0m in \u001b[0;36m<module>\u001b[0;34m\u001b[0m\n",
      "\u001b[0;32m<ipython-input-7-a5129c26d758>\u001b[0m in \u001b[0;36mBinaryClssification\u001b[0;34m(singleElectrodeUV)\u001b[0m\n\u001b[1;32m      4\u001b[0m     \u001b[0;31m# CWT\u001b[0m\u001b[0;34m\u001b[0m\u001b[0;34m\u001b[0m\u001b[0m\n\u001b[1;32m      5\u001b[0m     \u001b[0my\u001b[0m \u001b[0;34m=\u001b[0m \u001b[0msingleElectrodeUV\u001b[0m\u001b[0;34m\u001b[0m\u001b[0m\n\u001b[0;32m----> 6\u001b[0;31m     \u001b[0mcoef\u001b[0m\u001b[0;34m,\u001b[0m \u001b[0mfreqs\u001b[0m\u001b[0;34m=\u001b[0m\u001b[0mpywt\u001b[0m\u001b[0;34m.\u001b[0m\u001b[0mcwt\u001b[0m\u001b[0;34m(\u001b[0m\u001b[0my\u001b[0m\u001b[0;34m,\u001b[0m\u001b[0mnp\u001b[0m\u001b[0;34m.\u001b[0m\u001b[0marange\u001b[0m\u001b[0;34m(\u001b[0m\u001b[0;36m1\u001b[0m\u001b[0;34m,\u001b[0m\u001b[0;36m50\u001b[0m\u001b[0;34m,\u001b[0m\u001b[0;36m0.5\u001b[0m\u001b[0;34m)\u001b[0m\u001b[0;34m,\u001b[0m\u001b[0;34m'morl'\u001b[0m\u001b[0;34m)\u001b[0m\u001b[0;34m\u001b[0m\u001b[0m\n\u001b[0m\u001b[1;32m      7\u001b[0m     \u001b[0md\u001b[0m \u001b[0;34m=\u001b[0m \u001b[0mcoef\u001b[0m\u001b[0;34m\u001b[0m\u001b[0m\n\u001b[1;32m      8\u001b[0m     \u001b[0;31m# transpose continious wavelet transform matrix to be fed into PCA\u001b[0m\u001b[0;34m\u001b[0m\u001b[0;34m\u001b[0m\u001b[0m\n",
      "\u001b[0;32m/Applications/anaconda3/lib/python3.6/site-packages/pywt/_cwt.py\u001b[0m in \u001b[0;36mcwt\u001b[0;34m(data, scales, wavelet, sampling_period, method, axis)\u001b[0m\n\u001b[1;32m    156\u001b[0m         \u001b[0;32mif\u001b[0m \u001b[0mmethod\u001b[0m \u001b[0;34m==\u001b[0m \u001b[0;34m'conv'\u001b[0m\u001b[0;34m:\u001b[0m\u001b[0;34m\u001b[0m\u001b[0m\n\u001b[1;32m    157\u001b[0m             \u001b[0;32mif\u001b[0m \u001b[0mdata\u001b[0m\u001b[0;34m.\u001b[0m\u001b[0mndim\u001b[0m \u001b[0;34m==\u001b[0m \u001b[0;36m1\u001b[0m\u001b[0;34m:\u001b[0m\u001b[0;34m\u001b[0m\u001b[0m\n\u001b[0;32m--> 158\u001b[0;31m                 \u001b[0mconv\u001b[0m \u001b[0;34m=\u001b[0m \u001b[0mnp\u001b[0m\u001b[0;34m.\u001b[0m\u001b[0mconvolve\u001b[0m\u001b[0;34m(\u001b[0m\u001b[0mdata\u001b[0m\u001b[0;34m,\u001b[0m \u001b[0mint_psi_scale\u001b[0m\u001b[0;34m)\u001b[0m\u001b[0;34m\u001b[0m\u001b[0m\n\u001b[0m\u001b[1;32m    159\u001b[0m             \u001b[0;32melse\u001b[0m\u001b[0;34m:\u001b[0m\u001b[0;34m\u001b[0m\u001b[0m\n\u001b[1;32m    160\u001b[0m                 \u001b[0;31m# batch convolution via loop\u001b[0m\u001b[0;34m\u001b[0m\u001b[0;34m\u001b[0m\u001b[0m\n",
      "\u001b[0;32m<__array_function__ internals>\u001b[0m in \u001b[0;36mconvolve\u001b[0;34m(*args, **kwargs)\u001b[0m\n",
      "\u001b[0;32m/Applications/anaconda3/lib/python3.6/site-packages/numpy/core/numeric.py\u001b[0m in \u001b[0;36mconvolve\u001b[0;34m(a, v, mode)\u001b[0m\n\u001b[1;32m    815\u001b[0m         \u001b[0;32mraise\u001b[0m \u001b[0mValueError\u001b[0m\u001b[0;34m(\u001b[0m\u001b[0;34m'v cannot be empty'\u001b[0m\u001b[0;34m)\u001b[0m\u001b[0;34m\u001b[0m\u001b[0m\n\u001b[1;32m    816\u001b[0m     \u001b[0mmode\u001b[0m \u001b[0;34m=\u001b[0m \u001b[0m_mode_from_name\u001b[0m\u001b[0;34m(\u001b[0m\u001b[0mmode\u001b[0m\u001b[0;34m)\u001b[0m\u001b[0;34m\u001b[0m\u001b[0m\n\u001b[0;32m--> 817\u001b[0;31m     \u001b[0;32mreturn\u001b[0m \u001b[0mmultiarray\u001b[0m\u001b[0;34m.\u001b[0m\u001b[0mcorrelate\u001b[0m\u001b[0;34m(\u001b[0m\u001b[0ma\u001b[0m\u001b[0;34m,\u001b[0m \u001b[0mv\u001b[0m\u001b[0;34m[\u001b[0m\u001b[0;34m:\u001b[0m\u001b[0;34m:\u001b[0m\u001b[0;34m-\u001b[0m\u001b[0;36m1\u001b[0m\u001b[0;34m]\u001b[0m\u001b[0;34m,\u001b[0m \u001b[0mmode\u001b[0m\u001b[0;34m)\u001b[0m\u001b[0;34m\u001b[0m\u001b[0m\n\u001b[0m\u001b[1;32m    818\u001b[0m \u001b[0;34m\u001b[0m\u001b[0m\n\u001b[1;32m    819\u001b[0m \u001b[0;34m\u001b[0m\u001b[0m\n",
      "\u001b[0;31mKeyboardInterrupt\u001b[0m: "
     ]
    }
   ],
   "source": [
    "%%time\n",
    "# code that loops through all the channels in the MEA and runs binary classification function on \n",
    "# each channel.\n",
    "numChannel = 64 * 64\n",
    "indexes = np.arange(numChannel)\n",
    "# loop over all channels\n",
    "for i in indexes: \n",
    "#   Display progress of the loop\n",
    "    percentage = int((i/4096)*100)\n",
    "#     print(i,\"/4096 channels analysed\",end=\"\\r\", flush=True)\n",
    "    print(percentage,\"% of channels analysed\",end=\"\\r\", flush=True)\n",
    "    # load data channel\n",
    "    singleElectrodeUV, sampmlingFrequency, numChs, ids, frames = loadData(i) \n",
    "    # checking if channel is empty and if not perform binary classification\n",
    "    Max = np.max(singleElectrodeUV)\n",
    "    if(Max == 0.0):\n",
    "        np.put(VectorOfOne, ids, singleElectrodeUV)\n",
    "    else:\n",
    "        result = BinaryClssification(singleElectrodeUV)\n",
    "        np.put(VectorOfOne, ids, result)\n"
   ]
  },
  {
   "cell_type": "code",
   "execution_count": 11,
   "metadata": {},
   "outputs": [
    {
     "ename": "KeyboardInterrupt",
     "evalue": "",
     "output_type": "error",
     "traceback": [
      "\u001b[0;31m---------------------------------------------------------------------------\u001b[0m",
      "\u001b[0;31mKeyboardInterrupt\u001b[0m                         Traceback (most recent call last)",
      "\u001b[0;32m<ipython-input-11-a4132c399bcd>\u001b[0m in \u001b[0;36m<module>\u001b[0;34m\u001b[0m\n\u001b[1;32m      1\u001b[0m \u001b[0;31m# Remove signal exeeding 3000mV as this are not neural signals but artifacts of the MEA\u001b[0m\u001b[0;34m\u001b[0m\u001b[0;34m\u001b[0m\u001b[0m\n\u001b[1;32m      2\u001b[0m \u001b[0mmask\u001b[0m \u001b[0;34m=\u001b[0m \u001b[0mmap\u001b[0m\u001b[0;34m(\u001b[0m\u001b[0;32mlambda\u001b[0m \u001b[0mx\u001b[0m \u001b[0;34m:\u001b[0m \u001b[0;36m0\u001b[0m \u001b[0;32mif\u001b[0m \u001b[0;34m(\u001b[0m\u001b[0mabs\u001b[0m\u001b[0;34m(\u001b[0m\u001b[0mx\u001b[0m\u001b[0;34m)\u001b[0m \u001b[0;34m>\u001b[0m \u001b[0;36m3000\u001b[0m\u001b[0;34m)\u001b[0m \u001b[0;32melse\u001b[0m \u001b[0;36m1\u001b[0m\u001b[0;34m,\u001b[0m \u001b[0mVectorOfOne\u001b[0m\u001b[0;34m)\u001b[0m\u001b[0;34m\u001b[0m\u001b[0m\n\u001b[0;32m----> 3\u001b[0;31m \u001b[0mmask\u001b[0m \u001b[0;34m=\u001b[0m \u001b[0mlist\u001b[0m\u001b[0;34m(\u001b[0m\u001b[0mmask\u001b[0m\u001b[0;34m)\u001b[0m\u001b[0;34m\u001b[0m\u001b[0m\n\u001b[0m\u001b[1;32m      4\u001b[0m \u001b[0mVector\u001b[0m \u001b[0;34m=\u001b[0m \u001b[0mnp\u001b[0m\u001b[0;34m.\u001b[0m\u001b[0mmultiply\u001b[0m\u001b[0;34m(\u001b[0m\u001b[0mVectorOfOne\u001b[0m\u001b[0;34m,\u001b[0m\u001b[0mmask\u001b[0m\u001b[0;34m)\u001b[0m\u001b[0;34m\u001b[0m\u001b[0m\n",
      "\u001b[0;32m<ipython-input-11-a4132c399bcd>\u001b[0m in \u001b[0;36m<lambda>\u001b[0;34m(x)\u001b[0m\n\u001b[1;32m      1\u001b[0m \u001b[0;31m# Remove signal exeeding 3000mV as this are not neural signals but artifacts of the MEA\u001b[0m\u001b[0;34m\u001b[0m\u001b[0;34m\u001b[0m\u001b[0m\n\u001b[0;32m----> 2\u001b[0;31m \u001b[0mmask\u001b[0m \u001b[0;34m=\u001b[0m \u001b[0mmap\u001b[0m\u001b[0;34m(\u001b[0m\u001b[0;32mlambda\u001b[0m \u001b[0mx\u001b[0m \u001b[0;34m:\u001b[0m \u001b[0;36m0\u001b[0m \u001b[0;32mif\u001b[0m \u001b[0;34m(\u001b[0m\u001b[0mabs\u001b[0m\u001b[0;34m(\u001b[0m\u001b[0mx\u001b[0m\u001b[0;34m)\u001b[0m \u001b[0;34m>\u001b[0m \u001b[0;36m3000\u001b[0m\u001b[0;34m)\u001b[0m \u001b[0;32melse\u001b[0m \u001b[0;36m1\u001b[0m\u001b[0;34m,\u001b[0m \u001b[0mVectorOfOne\u001b[0m\u001b[0;34m)\u001b[0m\u001b[0;34m\u001b[0m\u001b[0m\n\u001b[0m\u001b[1;32m      3\u001b[0m \u001b[0mmask\u001b[0m \u001b[0;34m=\u001b[0m \u001b[0mlist\u001b[0m\u001b[0;34m(\u001b[0m\u001b[0mmask\u001b[0m\u001b[0;34m)\u001b[0m\u001b[0;34m\u001b[0m\u001b[0m\n\u001b[1;32m      4\u001b[0m \u001b[0mVector\u001b[0m \u001b[0;34m=\u001b[0m \u001b[0mnp\u001b[0m\u001b[0;34m.\u001b[0m\u001b[0mmultiply\u001b[0m\u001b[0;34m(\u001b[0m\u001b[0mVectorOfOne\u001b[0m\u001b[0;34m,\u001b[0m\u001b[0mmask\u001b[0m\u001b[0;34m)\u001b[0m\u001b[0;34m\u001b[0m\u001b[0m\n",
      "\u001b[0;31mKeyboardInterrupt\u001b[0m: "
     ]
    }
   ],
   "source": [
    "# Remove signal exeeding 3000mV as this are not neural signals but artifacts of the MEA\n",
    "mask = map(lambda x : 0 if (abs(x) > 3000) else 1, VectorOfOne)\n",
    "mask = list(mask)\n",
    "Vector = np.multiply(VectorOfOne,mask)"
   ]
  },
  {
   "cell_type": "code",
   "execution_count": null,
   "metadata": {},
   "outputs": [],
   "source": [
    "start = 6000000\n",
    "end = 180000000\n",
    "plt.figure(figsize=(25,7.5))\n",
    "plt.plot(range(len(Vector[start:end]))/sampmlingFrequency, Vector[start:end]) \n",
    "plt.title('filtering signal')\n",
    "plt.show()"
   ]
  },
  {
   "cell_type": "code",
   "execution_count": null,
   "metadata": {},
   "outputs": [],
   "source": [
    "# take the processed binary classification of all the channels and prepare it to be written back into the\n",
    "#  brw format\n",
    "fromQLevelToUVolt,  qLevel, signalInversion = MEAsettings(dir1)\n",
    "Vector = Vector / fromQLevelToUVolt\n",
    "Vector = Vector + (qLevel / 2);\n",
    "Vector = Vector / signalInversion;"
   ]
  },
  {
   "cell_type": "code",
   "execution_count": null,
   "metadata": {},
   "outputs": [],
   "source": [
    "final_array = np.array(Vector, dtype='int16')"
   ]
  },
  {
   "cell_type": "code",
   "execution_count": null,
   "metadata": {},
   "outputs": [],
   "source": [
    "# append a copy of dir1 with the new results.\n",
    "with h5py.File(dir2, mode = 'a') as f:\n",
    "    print(list(f.items()))\n",
    "    g1 = f.get('3BData')\n",
    " \n",
    "    #delete old version of 'Raw'\n",
    "    delete = 'Raw'\n",
    "    if delete in g1.keys():\n",
    "        del g1['Raw']\n",
    "        \n",
    "    #create new version of 'Raw' \n",
    "    dataset = \"Raw\"\n",
    "    if dataset not in g1.keys():\n",
    "        print(\"dataset is not here yet!\")\n",
    "        g1.create_dataset('Raw', data = final_array, dtype='uint16') #dtype='int16'\n",
    "\n",
    "\n",
    "    #display keys to make sure 'Raw' file exists \n",
    "    g1_items = list(g1.items())\n",
    "    print('items in group 1: ', g1_items)\n",
    "    print(g1.keys())"
   ]
  },
  {
   "cell_type": "code",
   "execution_count": null,
   "metadata": {},
   "outputs": [],
   "source": [
    "xstr = (53,20)\n",
    "# Load data\n",
    "with h5py.File(dir2, 'r') as hdf:\n",
    "    \n",
    "    chsList = np.array(hdf.get('3BRecInfo/3BMeaStreams/Raw/Chs')[:])\n",
    "    numChs = len(chsList)\n",
    "    frames = np.array(hdf.get('3BRecInfo/3BRecVars/NRecFrames')[0])\n",
    "    selectedChannel = (chsList['Row'] == int(xstr[0])) * (chsList['Col'] == int(xstr[1]))\n",
    "    channelIdx = np.where(selectedChannel == True)[0][0]\n",
    "    ids = np.arange(channelIdx, frames * numChs, numChs)\n",
    "    data = np.array(hdf.get('3BData/Raw'))[ids]\n",
    "    # extract info relating to signal conversion \n",
    "    signalInversion = np.array(hdf.get('/3BRecInfo/3BRecVars/SignalInversion')[0])\n",
    "    maxUVolt = (np.array(hdf.get('/3BRecInfo/3BRecVars/MaxVolt')[0]))\n",
    "    minUVolt = (np.array(hdf.get('/3BRecInfo/3BRecVars/MinVolt')[0]))\n",
    "    bitDepth = (np.array(hdf.get('/3BRecInfo/3BRecVars/BitDepth')[0]))\n",
    "    sampmlingFrequency = (np.array(hdf.get('3BRecInfo/3BRecVars/SamplingRate')[0]))\n",
    "    \n",
    "qLevel = 2**bitDepth \n",
    "fromQLevelToUVolt = (maxUVolt - minUVolt) / qLevel\n",
    "singleElectrodeUV = data * signalInversion;\n",
    "singleElectrodeUV = singleElectrodeUV - (qLevel / 2);\n",
    "singleElectrodeUV = singleElectrodeUV * fromQLevelToUVolt"
   ]
  },
  {
   "cell_type": "code",
   "execution_count": null,
   "metadata": {},
   "outputs": [],
   "source": [
    "# plot the channel\n",
    "plt.figure(figsize=(25,7.5))\n",
    "plt.plot(range(len(singleElectrodeUV))/sampmlingFrequency, singleElectrodeUV) \n",
    "plt.title('singleElectrodeUV')\n",
    "plt.show()"
   ]
  },
  {
   "cell_type": "code",
   "execution_count": null,
   "metadata": {},
   "outputs": [],
   "source": [
    "print('denoising completed, initialising shearlets ...')"
   ]
  },
  {
   "cell_type": "code",
   "execution_count": null,
   "metadata": {},
   "outputs": [],
   "source": [
    "# shearlet section"
   ]
  },
  {
   "cell_type": "code",
   "execution_count": null,
   "metadata": {},
   "outputs": [],
   "source": [
    "rawData, numChs, frames, sampmlingFrequency =  loadDirectory(dir2)"
   ]
  },
  {
   "cell_type": "code",
   "execution_count": null,
   "metadata": {},
   "outputs": [],
   "source": [
    "# Take the mean of X number of frames, windowSize indicates number of frames to take \n",
    "OutData = []\n",
    "windowSize = 20\n",
    "for pos in range(frames - windowSize):\n",
    "    if(pos%1000 == 0):\n",
    "        print(\"pos: \",pos,end=\"\\r\", flush=True)\n",
    "    storeArr = []\n",
    "    start = pos\n",
    "    \n",
    "    for i in range(start,start + windowSize):\n",
    "        frame = i\n",
    "        data = rawData[numChs * frame :numChs * (frame + 1)]\n",
    "        storeArr.append(data) \n",
    "\n",
    "    storeArr = np.array(storeArr)\n",
    "    meanWindow = storeArr.mean(axis=0)\n",
    "    OutData.append(meanWindow)"
   ]
  },
  {
   "cell_type": "code",
   "execution_count": null,
   "metadata": {},
   "outputs": [],
   "source": [
    "# Code that takes mean frames and feeds it into shearlet function \n",
    "shearletMatrix = []\n",
    "for s in range(0,len(OutData)):\n",
    "    I = OutData[s].reshape(64,64)\n",
    "    Xrec = shearlets(matrix = I)\n",
    "    # Flatten frames back into array \n",
    "    XrecArr =  Xrec.flatten()\n",
    "    shearletMatrix.append(XrecArr)\n",
    "    print(\"s: \",s)"
   ]
  },
  {
   "cell_type": "code",
   "execution_count": null,
   "metadata": {},
   "outputs": [],
   "source": [
    "# Code that takes result of shearing function (frames) and converts it back into 1D signal\n",
    "# to be written into a new file latter\n",
    "a = np.array(shearletMatrix)\n",
    "f =  a.flatten()\n",
    "d =  len(rawData) -  len(f)\n",
    "ff = f.tolist()\n",
    "rr = rawData[-d:].tolist()\n",
    "n = ff + rr\n",
    "out = np.array(n)"
   ]
  },
  {
   "cell_type": "code",
   "execution_count": null,
   "metadata": {},
   "outputs": [],
   "source": [
    "# multilying the result by some number, this is because shealet function tends to shrink signal\n",
    "# amplitude\n",
    "out = np.multiply(out,5)"
   ]
  },
  {
   "cell_type": "code",
   "execution_count": null,
   "metadata": {},
   "outputs": [],
   "source": [
    "fromQLevelToUVolt,  qLevel, signalInversion = MEAsettings(dir2)"
   ]
  },
  {
   "cell_type": "code",
   "execution_count": null,
   "metadata": {},
   "outputs": [],
   "source": [
    "%%time\n",
    "# reverse back to raw signal format to be written into the software\n",
    "out = out / fromQLevelToUVolt\n",
    "out = out + (qLevel / 2);\n",
    "out = out / signalInversion;"
   ]
  },
  {
   "cell_type": "code",
   "execution_count": null,
   "metadata": {},
   "outputs": [],
   "source": [
    "final_array = np.array(out, dtype='int16')\n",
    "print(final_array[0:10])"
   ]
  },
  {
   "cell_type": "code",
   "execution_count": null,
   "metadata": {},
   "outputs": [],
   "source": [
    "# Write back into a brw file\n",
    "with h5py.File(dir3, mode = 'a') as f:\n",
    "    print(list(f.items()))\n",
    "    g1 = f.get('3BData')\n",
    "        \n",
    "    #delete old version of 'Raw'\n",
    "    delete = 'Raw'\n",
    "    if delete in g1.keys():\n",
    "        del g1['Raw']\n",
    "        \n",
    "    #create new version of 'Raw' \n",
    "    dataset = \"Raw\"\n",
    "    if dataset not in g1.keys():\n",
    "        print(\"dataset is not here yet!\")\n",
    "        g1.create_dataset('Raw', data = final_array, dtype='uint16') #dtype='int16'\n",
    "\n",
    "\n",
    "    #display keys to make sure 'Raw' file exists \n",
    "    g1_items = list(g1.items())\n",
    "    print('items in group 1: ', g1_items)\n",
    "    print(g1.keys())"
   ]
  },
  {
   "cell_type": "code",
   "execution_count": null,
   "metadata": {},
   "outputs": [],
   "source": [
    "# display any channel in the new denoised file\n",
    "xstr = (53,20)\n",
    "# Load data\n",
    "with h5py.File(dir3, 'r') as hdf:\n",
    "    chsList = np.array(hdf.get('3BRecInfo/3BMeaStreams/Raw/Chs')[:])\n",
    "    numChs = len(chsList)\n",
    "    frames = np.array(hdf.get('3BRecInfo/3BRecVars/NRecFrames')[0])\n",
    "    selectedChannel = (chsList['Row'] == int(xstr[0])) * (chsList['Col'] == int(xstr[1]))\n",
    "    channelIdx = np.where(selectedChannel == True)[0][0]\n",
    "    ids = np.arange(channelIdx, frames * numChs, numChs)\n",
    "    data = np.array(hdf.get('3BData/Raw'))[ids]\n",
    "    # extract info relating to signal conversion \n",
    "    signalInversion = np.array(hdf.get('/3BRecInfo/3BRecVars/SignalInversion')[0])\n",
    "    maxUVolt = (np.array(hdf.get('/3BRecInfo/3BRecVars/MaxVolt')[0]))\n",
    "    minUVolt = (np.array(hdf.get('/3BRecInfo/3BRecVars/MinVolt')[0]))\n",
    "    bitDepth = (np.array(hdf.get('/3BRecInfo/3BRecVars/BitDepth')[0]))\n",
    "    sampmlingFrequency = (np.array(hdf.get('3BRecInfo/3BRecVars/SamplingRate')[0]))\n",
    "    \n",
    "qLevel = 2**bitDepth \n",
    "fromQLevelToUVolt = (maxUVolt - minUVolt) / qLevel\n",
    "singleElectrodeUV = data * signalInversion;\n",
    "singleElectrodeUV = singleElectrodeUV - (qLevel / 2);\n",
    "singleElectrodeUV = singleElectrodeUV * fromQLevelToUVolt"
   ]
  },
  {
   "cell_type": "code",
   "execution_count": null,
   "metadata": {},
   "outputs": [],
   "source": [
    "plt.figure(figsize=(25,7.5))\n",
    "plt.plot(range(len(singleElectrodeUV))/sampmlingFrequency, singleElectrodeUV) \n",
    "plt.title('filtering signal')\n",
    "plt.show()"
   ]
  },
  {
   "cell_type": "code",
   "execution_count": null,
   "metadata": {},
   "outputs": [],
   "source": []
  }
 ],
 "metadata": {
  "kernelspec": {
   "display_name": "Python 3",
   "language": "python",
   "name": "python3"
  },
  "language_info": {
   "codemirror_mode": {
    "name": "ipython",
    "version": 3
   },
   "file_extension": ".py",
   "mimetype": "text/x-python",
   "name": "python",
   "nbconvert_exporter": "python",
   "pygments_lexer": "ipython3",
   "version": "3.6.3"
  }
 },
 "nbformat": 4,
 "nbformat_minor": 4
}
